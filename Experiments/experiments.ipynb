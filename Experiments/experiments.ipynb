{
 "cells": [
  {
   "cell_type": "code",
   "execution_count": 3,
   "metadata": {
    "collapsed": true
   },
   "outputs": [],
   "source": [
    "from utils.texture import *\n",
    "from utils.tools import *\n",
    "import cv2\n",
    "import matplotlib.pyplot as plt\n",
    "import skimage.transform as transform"
   ]
  },
  {
   "cell_type": "code",
   "execution_count": 2,
   "metadata": {},
   "outputs": [],
   "source": [
    "config = load_config(r'configs.yaml')\n",
    "map_t = Texture(config)"
   ]
  },
  {
   "cell_type": "code",
   "execution_count": null,
   "metadata": {
    "collapsed": true
   },
   "outputs": [],
   "source": [
    "def transfer_texture_npy(img_path,iuv_path,output_path,background='o',STEP=61):\n",
    "    with Cap(img_path,step_size=STEP) as cap:\n",
    "        images = cap.read_all()\n",
    "    if (iuv_path.split('.')[1]=='npy'):\n",
    "        iuvs=np.load(iuv_path)\n",
    "    else:\n",
    "        iuvs=np.array([cv2.imread(iuv_path)])\n",
    "    if (background=='b'):\n",
    "        images=np.zeros_like(iuvs)\n",
    "    out=map_t.transfer_texture_on_video(images,iuvs)\n",
    "    save_video(out,output_path)\n",
    "    return out\n",
    "out=transfer_texture_npy(r'demo_im.jpg',r'demo_im_IUV.png',\n",
    "                 r'C:\\Users\\MuhammadUsman\\Downloads\\output.mp4',background='o')\n",
    "io.imsave(r'C:\\Users\\MuhammadUsman\\Downloads\\output.jpg',out[0][...,::-1])"
   ]
  },
  {
   "cell_type": "code",
   "execution_count": 4,
   "metadata": {},
   "outputs": [
    {
     "name": "stderr",
     "output_type": "stream",
     "text": [
      "C:\\ProgramData\\Anaconda2\\envs\\KerasTest\\lib\\site-packages\\skimage\\io\\_io.py:140: UserWarning: Texture_Data/big.png is a low contrast image\n  warn('%s is a low contrast image' % fname)\nC:\\ProgramData\\Anaconda2\\envs\\KerasTest\\lib\\site-packages\\skimage\\util\\dtype.py:141: UserWarning: Possible precision loss when converting from float64 to uint8\n  .format(dtypeobj_in, dtypeobj_out))\n"
     ]
    }
   ],
   "source": [
    "io.imsave('Texture_Data/big.png',np.zeros((6*256,4*256,3)))"
   ]
  },
  {
   "cell_type": "code",
   "execution_count": 5,
   "metadata": {},
   "outputs": [
    {
     "name": "stdout",
     "output_type": "stream",
     "text": [
      "(4, 4032, 3024, 3) (4032, 3024, 3)\n"
     ]
    }
   ],
   "source": [
    "with Cap(path=r'C:\\Users\\MuhammadUsman\\Downloads\\4imgs.mp4',step_size=0) as cap:\n",
    "    images=cap.read_all()\n",
    "iuv=np.load(r'C:\\Users\\MuhammadUsman\\Downloads\\result_IUV.npy')\n",
    "print(iuv.shape,images[0].shape)\n",
    "out=map_t.extract_texture_from_video(images,iuv,'Texture_Data/experiment.jpg')\n",
    "plt.imshow(out)\n",
    "plt.show()"
   ]
  },
  {
   "cell_type": "code",
   "execution_count": 4,
   "metadata": {},
   "outputs": [
    {
     "name": "stdout",
     "output_type": "stream",
     "text": [
      "['Emma Watson', 'katy perry', 'pic1', 'pic2', 'pic3', 'pic4', 'pic5', 'pic6', 'pic7']\n"
     ]
    }
   ],
   "source": [
    "def key(i):\n",
    "    return i\n",
    "base_path=r'C:\\Users\\MuhammadUsman\\Downloads\\pics'\n",
    "folders=os.listdir(base_path)\n",
    "print(folders)\n",
    "for folder in folders:\n",
    "    path=os.path.join(base_path,folder)\n",
    "    images=read_images_sorted(path=path,key=key)\n",
    "    name=os.path.join(path,folder)\n",
    "    save_video(images,name+'.mp4')\n"
   ]
  },
  {
   "cell_type": "code",
   "execution_count": 18,
   "metadata": {},
   "outputs": [],
   "source": [
    "i1=cv2.imread(r'C:\\Users\\MuhammadUsman\\Downloads\\IMG_0664.jpg')\n",
    "i2=cv2.imread(r'C:\\Users\\MuhammadUsman\\Downloads\\IMG_0665.jpg')\n",
    "i3=cv2.imread(r'C:\\Users\\MuhammadUsman\\Downloads\\IMG_0666.jpg')\n",
    "i4=cv2.imread(r'C:\\Users\\MuhammadUsman\\Downloads\\IMG_0667.jpg')\n",
    "imgs=[i1,i2,i3,i4]\n",
    "save_video(imgs,r'C:\\Users\\MuhammadUsman\\Downloads\\4imgs.mp4')"
   ]
  }
 ],
 "metadata": {
  "kernelspec": {
   "display_name": "Python 2",
   "language": "python",
   "name": "python2"
  },
  "language_info": {
   "codemirror_mode": {
    "name": "ipython",
    "version": 2
   },
   "file_extension": ".py",
   "mimetype": "text/x-python",
   "name": "python",
   "nbconvert_exporter": "python",
   "pygments_lexer": "ipython2",
   "version": "2.7.6"
  }
 },
 "nbformat": 4,
 "nbformat_minor": 0
}
