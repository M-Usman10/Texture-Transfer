{
 "cells": [
  {
   "cell_type": "code",
   "execution_count": 1,
   "metadata": {
    "collapsed": true
   },
   "outputs": [],
   "source": [
    "from utils.texture import *\n",
    "from utils.tools import *\n",
    "import cv2\n",
    "import matplotlib.pyplot as plt\n",
    "import skimage.transform as transform"
   ]
  },
  {
   "cell_type": "code",
   "execution_count": 12,
   "metadata": {},
   "outputs": [],
   "source": [
    "config = load_config(r'configs.yaml')\n",
    "map_t = Texture(config)"
   ]
  },
  {
   "cell_type": "code",
   "execution_count": 17,
   "metadata": {
    "collapsed": true
   },
   "outputs": [],
   "source": [
    "def transfer_texture_npy(img_path,iuv_path,output_path,background='o',STEP=61):\n",
    "    with Cap(img_path,step_size=STEP) as cap:\n",
    "        images = cap.read_all()\n",
    "    if (iuv_path.split('.')[1]=='npy'):\n",
    "        iuvs=np.load(iuv_path)\n",
    "    else:\n",
    "        iuvs=np.array([cv2.imread(iuv_path)])\n",
    "    if (background=='b'):\n",
    "        images=np.zeros_like(iuvs)\n",
    "    out=map_t.transfer_texture_on_video(images,iuvs)\n",
    "    save_video(out,output_path)\n",
    "transfer_texture_npy(r'demo_im.jpg',r'demo_im_IUV.png',\n",
    "                 r'C:\\Users\\MuhammadUsman\\Downloads\\output.mp4',background='o')"
   ]
  },
  {
   "cell_type": "code",
   "execution_count": 11,
   "metadata": {},
   "outputs": [],
   "source": [
    "i1=cv2.imread(r'C:\\Users\\MuhammadUsman\\Downloads\\front.jpg')\n",
    "i2=cv2.imread(r'C:\\Users\\MuhammadUsman\\Downloads\\back.jpg')\n",
    "save_video([i1,i2],r'C:\\Users\\MuhammadUsman\\Downloads\\fb.mp4')\n"
   ]
  },
  {
   "cell_type": "code",
   "execution_count": 18,
   "metadata": {},
   "outputs": [],
   "source": [
    "i1=cv2.imread(r'C:\\Users\\MuhammadUsman\\Downloads\\IMG_0664.jpg')\n",
    "i2=cv2.imread(r'C:\\Users\\MuhammadUsman\\Downloads\\IMG_0665.jpg')\n",
    "i3=cv2.imread(r'C:\\Users\\MuhammadUsman\\Downloads\\IMG_0666.jpg')\n",
    "i4=cv2.imread(r'C:\\Users\\MuhammadUsman\\Downloads\\IMG_0667.jpg')\n",
    "imgs=[i1,i2,i3,i4]\n",
    "save_video(imgs,r'C:\\Users\\MuhammadUsman\\Downloads\\4imgs.mp4')"
   ]
  },
  {
   "cell_type": "code",
   "execution_count": null,
   "metadata": {},
   "outputs": [],
   "source": []
  }
 ],
 "metadata": {
  "kernelspec": {
   "display_name": "Python 2",
   "language": "python",
   "name": "python2"
  },
  "language_info": {
   "codemirror_mode": {
    "name": "ipython",
    "version": 2
   },
   "file_extension": ".py",
   "mimetype": "text/x-python",
   "name": "python",
   "nbconvert_exporter": "python",
   "pygments_lexer": "ipython2",
   "version": "2.7.6"
  }
 },
 "nbformat": 4,
 "nbformat_minor": 0
}
