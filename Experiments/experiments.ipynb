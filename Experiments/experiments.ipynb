{
 "cells": [
  {
   "cell_type": "code",
   "execution_count": 10,
   "metadata": {
    "collapsed": true
   },
   "outputs": [],
   "source": [
    "from utils.texture import *\n",
    "from utils.tools import *\n",
    "import cv2\n",
    "import matplotlib.pyplot as plt\n",
    "import skimage.transform as transform"
   ]
  },
  {
   "cell_type": "code",
   "execution_count": 11,
   "metadata": {},
   "outputs": [],
   "source": [
    "ind=np.arange(150)\n",
    "config = load_config(r'configs.yaml')\n",
    "map_t = Texture(config)"
   ]
  },
  {
   "cell_type": "code",
   "execution_count": 6,
   "metadata": {},
   "outputs": [
    {
     "data": {
      "text/plain": [
       "6"
      ]
     },
     "execution_count": 6,
     "metadata": {},
     "output_type": "execute_result"
    }
   ],
   "source": [
    "path=r'C:\\Users\\MuhammadUsman\\Downloads\\armughan.MOV'\n",
    "with Cap(path,step_size=50) as cap:\n",
    "    images = cap.read_all()\n",
    "len(images)"
   ]
  },
  {
   "cell_type": "code",
   "execution_count": 12,
   "metadata": {
    "collapsed": true
   },
   "outputs": [
    {
     "name": "stdout",
     "output_type": "stream",
     "text": [
      "1 1\n"
     ]
    }
   ],
   "source": [
    "path=r'demo_im.jpg'\n",
    "with Cap(path,step_size=1) as cap:\n",
    "    images = cap.read_all()\n",
    "path=r'demo_im_IUV.png'\n",
    "# with Cap(path,step_size=1) as cap:\n",
    "#     iuvs = cap.read_all()\n",
    "iuvs=[cv2.imread('demo_im_IUV.png')]\n",
    "print(len(images),len(iuvs))\n",
    "result_save_file = os.path.join(r'C:\\Users\\MuhammadUsman\\PycharmProjects\\Texture-Transfer\\Texture_Data', \n",
    "                                \"texture_result.mp4\")\n",
    "out=map_t.transfer_texture_on_video(images,iuvs)\n",
    "plt.imshow(out[0][...,::-1])\n",
    "plt.show()\n",
    "save_video(out,result_save_file)"
   ]
  },
  {
   "cell_type": "code",
   "execution_count": 39,
   "metadata": {},
   "outputs": [
    {
     "name": "stdout",
     "output_type": "stream",
     "text": [
      "1554654\n(3000, 2000, 3)\n"
     ]
    }
   ],
   "source": [
    "print (np.sum(out[0][:,:,2]>100))\n",
    "print (out[0].shape)"
   ]
  },
  {
   "cell_type": "code",
   "execution_count": 19,
   "metadata": {
    "collapsed": false
   },
   "outputs": [],
   "source": [
    "config = load_config(r'configs.yaml')\n",
    "map_t = Texture(config)\n",
    "im = cv2.imread('demo_im.jpg')\n",
    "iuv = cv2.imread('demo_im_IUV.png')\n",
    "out = map_t.transfer_texture(im,iuv)[...,::-1]\n",
    "plt.imshow(out)\n",
    "plt.show()"
   ]
  },
  {
   "cell_type": "code",
   "execution_count": null,
   "metadata": {},
   "outputs": [],
   "source": []
  }
 ],
 "metadata": {
  "kernelspec": {
   "display_name": "Python 2",
   "language": "python",
   "name": "python2"
  },
  "language_info": {
   "codemirror_mode": {
    "name": "ipython",
    "version": 2
   },
   "file_extension": ".py",
   "mimetype": "text/x-python",
   "name": "python",
   "nbconvert_exporter": "python",
   "pygments_lexer": "ipython2",
   "version": "2.7.6"
  }
 },
 "nbformat": 4,
 "nbformat_minor": 0
}
